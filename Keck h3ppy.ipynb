{
 "cells": [
  {
   "cell_type": "code",
   "execution_count": 1,
   "id": "4681f4c6",
   "metadata": {},
   "outputs": [
    {
     "name": "stderr",
     "output_type": "stream",
     "text": [
      "C:\\Users\\rober\\anaconda3\\lib\\site-packages\\pysynphot\\locations.py:345: UserWarning: Extinction files not found in C:\\Users\\rober\\Documents\\Python Scripts\\extinction\n",
      "  warnings.warn('Extinction files not found in %s' % (extdir, ))\n",
      "C:\\Users\\rober\\anaconda3\\lib\\site-packages\\pysynphot\\refs.py:117: UserWarning: No graph or component tables found; functionality will be SEVERELY crippled. No files found for C:\\Users\\rober\\Documents\\Python Scripts\\mtab\\*_tmg.fits\n",
      "  warnings.warn('No graph or component tables found; '\n",
      "C:\\Users\\rober\\anaconda3\\lib\\site-packages\\pysynphot\\refs.py:124: UserWarning: No thermal tables found, no thermal calculations can be performed. No files found for C:\\Users\\rober\\Documents\\Python Scripts\\mtab\\*_tmt.fits\n",
      "  warnings.warn('No thermal tables found, '\n"
     ]
    }
   ],
   "source": [
    "import h3ppy\n",
    "import matplotlib.pyplot as plt\n",
    "import numpy as np\n",
    "from astropy.io import fits\n",
    "from array import array\n",
    "import sys\n",
    "import pandas as pd\n",
    "\n",
    "\n",
    "import os\n",
    "os.environ['PYSYN_CDBS']\n",
    "import pysynphot as S\n",
    "from astropy.io import ascii\n",
    "\n",
    "import io\n",
    "from pathlib import Path\n",
    "import math"
   ]
  },
  {
   "cell_type": "code",
   "execution_count": 2,
   "id": "6331db24",
   "metadata": {},
   "outputs": [],
   "source": [
    "#read in calibrator file\n",
    "cal = pd.read_csv(r\"C:\\Users\\rober\\star 4th order.dat\", delim_whitespace=True, skiprows=2)\n",
    "\n",
    "#making single variables for wavelength in angstroms and microns\n",
    "cal_ang = cal['lambda']*10000\n",
    "cal_micron = cal[\"lambda\"]\n",
    "\n",
    "#read in target file\n",
    "tar = pd.read_csv(r\"C:\\Users\\rober\\jupiter west 4th order.dat\", delim_whitespace=True, skiprows=2)\n",
    "\n",
    "#wavelength for target in angstroms since something later calls for it\n",
    "#should be identical to cal_ang\n",
    "tar_ang = tar['lambda']*10000"
   ]
  },
  {
   "cell_type": "code",
   "execution_count": 3,
   "id": "e28df28b",
   "metadata": {},
   "outputs": [],
   "source": [
    "cnorm_file = pd.read_csv(r\"C:\\Users\\rober\\star 4th order.dat\", delim_whitespace=True, skipfooter=2049,engine='python')\n",
    "\n",
    "cnorm = cnorm_file[\"Normalization\"][0]\n",
    "\n",
    "#dividing calibrator by t_int to get it in units of counts/sec\n",
    "cal_norm = cal['flux']*cnorm/8.851681"
   ]
  },
  {
   "cell_type": "code",
   "execution_count": 4,
   "id": "1ee054c1",
   "metadata": {},
   "outputs": [],
   "source": [
    "#tnorm_file = pd.read_csv(r\"C:\\Users\\rober\\jupiter file.dat\", delim_whitespace=True, \n",
    " #                        skipfooter=2048,engine='python')\n",
    "#tnorm_file\n",
    "\n",
    "#file was a little janky so I just pulled the normalization directly from the file \n",
    "    #(1.46080e+01, or 2.49775e+03) rather than try and figure it out\n",
    "\n",
    "#dividing calibrator by t_int to get it in units of counts/sec\n",
    "#4th order\n",
    "#tar_norm = tar['flux']*2.77151e+01/1.47528\n",
    "\n",
    "#1st order\n",
    "#tar_norm = tar['flux']*2.44149e+03/1.47528\n",
    "\n",
    "#3rd order\n",
    "#tar_norm = tar['flux']*1.30859e+02/1.47528\n",
    "\n",
    "\n",
    "\n",
    "tar_norm = tar['flux']*  3.41481e+02/8.851681"
   ]
  },
  {
   "cell_type": "code",
   "execution_count": 5,
   "id": "a824d68c",
   "metadata": {},
   "outputs": [
    {
     "data": {
      "text/plain": [
       "0       1794.321258\n",
       "1        179.886190\n",
       "2        118.742608\n",
       "3         76.934368\n",
       "4        126.312788\n",
       "           ...     \n",
       "2043     -67.553718\n",
       "2044      30.737291\n",
       "2045      -3.166486\n",
       "2046      -8.295371\n",
       "2047       0.000000\n",
       "Name: flux, Length: 2048, dtype: float64"
      ]
     },
     "execution_count": 5,
     "metadata": {},
     "output_type": "execute_result"
    }
   ],
   "source": [
    "tar_norm"
   ]
  },
  {
   "cell_type": "code",
   "execution_count": null,
   "id": "e70c1599",
   "metadata": {},
   "outputs": [],
   "source": []
  },
  {
   "cell_type": "code",
   "execution_count": null,
   "id": "8d39f9fa",
   "metadata": {},
   "outputs": [],
   "source": []
  },
  {
   "cell_type": "code",
   "execution_count": null,
   "id": "3cc3f017",
   "metadata": {},
   "outputs": [],
   "source": []
  },
  {
   "cell_type": "code",
   "execution_count": null,
   "id": "1bd32c3a",
   "metadata": {},
   "outputs": [],
   "source": []
  },
  {
   "cell_type": "code",
   "execution_count": 25,
   "id": "6b756a6b",
   "metadata": {},
   "outputs": [],
   "source": [
    "#load in star spectrum\n",
    "# A0V       9520     +4.14       kp00_9500[g40] \n",
    "#need T_eff = 9520, metallicity = 0, log(g) = 4.14\n",
    "sp = S.Icat('k93models', 9520, 0, 4.14)\n",
    "\n",
    "#configure star spectrum into something the bandpass can normalize\n",
    "Kurucz = S.ArraySpectrum(sp.wave, sp.flux)"
   ]
  },
  {
   "cell_type": "code",
   "execution_count": null,
   "id": "33b924c2",
   "metadata": {},
   "outputs": [],
   "source": []
  },
  {
   "cell_type": "code",
   "execution_count": 26,
   "id": "7d8e2066",
   "metadata": {},
   "outputs": [],
   "source": [
    "#4th order\n",
    "#flam = 1.026e-13 W/m^2/micron * 10^-1 for the conversion of um, m^2, and W, to AA, cm^2, erg/s\n",
    "#pulled from Gemini conversion site + simbad data on HD219833\n",
    "constant = 1.026*10**(-13)*10**(-1)"
   ]
  },
  {
   "cell_type": "code",
   "execution_count": 27,
   "id": "358ad186",
   "metadata": {},
   "outputs": [
    {
     "data": {
      "text/plain": [
       "34300.0"
      ]
     },
     "execution_count": 27,
     "metadata": {},
     "output_type": "execute_result"
    }
   ],
   "source": [
    "#find index of center of band (3.43 micron -> 34300 Angstroms)\n",
    "number = 973\n",
    "Kurucz.wave[number]"
   ]
  },
  {
   "cell_type": "code",
   "execution_count": 28,
   "id": "99ade303",
   "metadata": {},
   "outputs": [
    {
     "data": {
      "text/plain": [
       "8.710305209530658e-20"
      ]
     },
     "execution_count": 28,
     "metadata": {},
     "output_type": "execute_result"
    }
   ],
   "source": [
    "starnorm = constant/Kurucz.flux[number]\n",
    "starnorm"
   ]
  },
  {
   "cell_type": "code",
   "execution_count": 29,
   "id": "1de97bcf",
   "metadata": {},
   "outputs": [],
   "source": [
    "Kurucz_band = starnorm*Kurucz.flux"
   ]
  },
  {
   "cell_type": "code",
   "execution_count": null,
   "id": "709d0253",
   "metadata": {},
   "outputs": [],
   "source": []
  },
  {
   "cell_type": "code",
   "execution_count": 30,
   "id": "fc0098a7",
   "metadata": {},
   "outputs": [],
   "source": [
    "#in units of erg/s/cm^2/AA, should be W/m^2/nm\n",
    "Kurucz_W = (Kurucz_band)*10**(-2)"
   ]
  },
  {
   "cell_type": "code",
   "execution_count": 31,
   "id": "1b13d5cb",
   "metadata": {},
   "outputs": [],
   "source": [
    "#interpolate Kurucz spectrum to calibrator wavelengths so they are the same size & at same wavelengths\n",
    "interpol = np.interp(cal_ang, Kurucz.wave, Kurucz_W)"
   ]
  },
  {
   "cell_type": "code",
   "execution_count": 32,
   "id": "5b60bc92",
   "metadata": {},
   "outputs": [],
   "source": [
    "#interpolate target spectrum to calibrator wavelengths so they are the same size & at same wavelengths\n",
    "tar_interpol_flux = np.interp(cal_ang, tar_ang, tar_norm)"
   ]
  },
  {
   "cell_type": "code",
   "execution_count": 33,
   "id": "c1e1d588",
   "metadata": {},
   "outputs": [],
   "source": [
    "#divide target flux by calibrator flux to remove units of cnts/sec and some atmospheric interference\n",
    "div_flux = tar_interpol_flux / cal_norm"
   ]
  },
  {
   "cell_type": "code",
   "execution_count": 34,
   "id": "12c0e977",
   "metadata": {},
   "outputs": [],
   "source": [
    "#multiply interpolated Kurucz flux by divided target/cal flux to apply units (and some magnitude)\n",
    "W_flux = div_flux*interpol"
   ]
  },
  {
   "cell_type": "code",
   "execution_count": 35,
   "id": "81074940",
   "metadata": {},
   "outputs": [
    {
     "data": {
      "text/plain": [
       "Text(0, 0.5, 'W/m^2/nm')"
      ]
     },
     "execution_count": 35,
     "metadata": {},
     "output_type": "execute_result"
    },
    {
     "data": {
      "image/png": "[encoded data removed]",
      "text/plain": [
       "<Figure size 1152x288 with 1 Axes>"
      ]
     },
     "metadata": {
      "needs_background": "light"
     },
     "output_type": "display_data"
    }
   ],
   "source": [
    "fig, ax = plt.subplots(figsize=[16, 4])\n",
    "\n",
    "\n",
    "\n",
    "plt.plot(cal['lambda'], W_flux)\n",
    "plt.ylim(-0.5e-14,0.5e-14)\n",
    "\n",
    "plt.ylabel('W/m^2/nm')"
   ]
  },
  {
   "cell_type": "code",
   "execution_count": 36,
   "id": "92cb5afe",
   "metadata": {},
   "outputs": [],
   "source": [
    "#nm to micron, multiply by 0.001, \n",
    "\n",
    "#set dataset to be used within h3ppy\n",
    "# Need to convert the instrument FOV to units of sterradian\n",
    "# The pixel width is 0.144 arcsec with a slit width of 0.288 arcsec (NIRSPEC High resolution echelle)\n",
    "# Note - there are 4.2545e10 arceconds in a sterradian\n",
    "\n",
    "spec = W_flux * 0.01 * 4.2545e10 / (0.144 * 0.288)\n",
    "wavelength = cal['lambda']"
   ]
  },
  {
   "cell_type": "code",
   "execution_count": 37,
   "id": "8864aa1e",
   "metadata": {},
   "outputs": [
    {
     "data": {
      "text/plain": [
       "0       3.407174\n",
       "1       3.407208\n",
       "2       3.407243\n",
       "3       3.407277\n",
       "4       3.407311\n",
       "          ...   \n",
       "2043    3.477269\n",
       "2044    3.477304\n",
       "2045    3.477338\n",
       "2046    3.477372\n",
       "2047    3.477406\n",
       "Name: lambda, Length: 2048, dtype: float64"
      ]
     },
     "execution_count": 37,
     "metadata": {},
     "output_type": "execute_result"
    }
   ],
   "source": [
    "wavelength"
   ]
  },
  {
   "cell_type": "code",
   "execution_count": 38,
   "id": "e2e5150b",
   "metadata": {},
   "outputs": [
    {
     "data": {
      "text/plain": [
       "Text(0, 0.5, 'W/m^2/um/sr')"
      ]
     },
     "execution_count": 38,
     "metadata": {},
     "output_type": "execute_result"
    },
    {
     "data": {
      "image/png": "[encoded data removed]",
      "text/plain": [
       "<Figure size 1152x288 with 1 Axes>"
      ]
     },
     "metadata": {
      "needs_background": "light"
     },
     "output_type": "display_data"
    }
   ],
   "source": [
    "fig, ax = plt.subplots(figsize=[16, 4])\n",
    "\n",
    "\n",
    "\n",
    "plt.plot(wavelength, spec)\n",
    "#plt.ylim(-1e-5,1e-5)\n",
    "\n",
    "\n",
    "\n",
    "\n",
    "\n",
    "#4th order\n",
    "#plt.axvline(x = 3.42062, color='g')\n",
    "#plt.axvline(x = 3.42687, color='r')\n",
    "#plt.axvline(x = 3.45473, color='purple')\n",
    "\n",
    "#plt.xlim(3.4190, 3.422)\n",
    "#plt.xlim(3.420, 3.430)\n",
    "#plt.xlim(3.450, 3.462)\n",
    "\n",
    "\n",
    "\n",
    "\n",
    "\n",
    "#1st order H3+ locations\n",
    "#3.97092 (425-475), 3.98538 (1325-1355), 3.98688 (1425-1455)\n",
    "#3.95285 (1175-1225)\n",
    "#3.9038 (10-40),3.9285 (1540-1570)\n",
    "\n",
    "#plt.axvline(x = 3.98688, color='y')\n",
    "#plt.axvline(x = 3.98538, color='orange')\n",
    "#plt.axvline(x = 3.97092, color='r')\n",
    "#plt.axvline(x = 3.95285, color='purple')\n",
    "#plt.axvline(x = 3.9285, color='g')\n",
    "\n",
    "\n",
    "plt.ylabel('W/m^2/um/sr')"
   ]
  },
  {
   "cell_type": "code",
   "execution_count": null,
   "id": "c0bb17d8",
   "metadata": {},
   "outputs": [],
   "source": []
  },
  {
   "cell_type": "code",
   "execution_count": null,
   "id": "65a90a01",
   "metadata": {},
   "outputs": [],
   "source": []
  },
  {
   "cell_type": "code",
   "execution_count": null,
   "id": "8093d856",
   "metadata": {},
   "outputs": [],
   "source": []
  },
  {
   "cell_type": "code",
   "execution_count": null,
   "id": "dc79ec00",
   "metadata": {},
   "outputs": [],
   "source": []
  },
  {
   "cell_type": "code",
   "execution_count": 39,
   "id": "caae97cd",
   "metadata": {},
   "outputs": [
    {
     "data": {
      "image/png": "[encoded data removed]",
      "text/plain": [
       "<Figure size 432x288 with 1 Axes>"
      ]
     },
     "metadata": {
      "needs_background": "light"
     },
     "output_type": "display_data"
    }
   ],
   "source": [
    "# Create the H3+ object\n",
    "h3p = h3ppy.h3p()\n",
    "\n",
    "# Define a wavelength range, e.g. typical of an observation of the H3+ Q branch\n",
    "# Specify the start and end wavelengths, and the number of wavelength elements\n",
    "wave = h3p.wavegen(wavelength[0], wavelength[2047], 10000)\n",
    "#wave = h3p.wavegen(3.934, 4.01667, 10000)\n",
    "\n",
    "# Create a H3+ model spectrum for a set of physical parameters \n",
    "# Spectral resolution R = 1200, T = 1000, N = 1e14\n",
    "# This is the minimum set of parameters required for generating a model\n",
    "model = h3p.model(density = 4e+15, temperature = 265, R = 75000, wavelength = wave)\n",
    "\n",
    "# Plot the model\n",
    "fig, ax = plt.subplots()\n",
    "ax.plot(wave, model)\n",
    "\n",
    "# Automagically set the labels \n",
    "ax.set_xlabel(h3p.xlabel())\n",
    "ax.set_ylabel(h3p.ylabel())\n",
    "#plt.xlim(3.4530,3.4560)\n",
    "#plt.ylim(-1e-5,1.5e-4)\n",
    "plt.show()\n",
    "#plt.savefig('example_model.png')\n",
    "#plt.close() "
   ]
  },
  {
   "cell_type": "code",
   "execution_count": null,
   "id": "e04fc0fc",
   "metadata": {},
   "outputs": [],
   "source": []
  },
  {
   "cell_type": "code",
   "execution_count": 40,
   "id": "eae5d456",
   "metadata": {},
   "outputs": [
    {
     "name": "stdout",
     "output_type": "stream",
     "text": [
      "3.4071739\n",
      "3.4774065\n"
     ]
    }
   ],
   "source": [
    "print(wave[0])\n",
    "\n",
    "print(wavelength[2047])"
   ]
  },
  {
   "cell_type": "code",
   "execution_count": null,
   "id": "7920b882",
   "metadata": {},
   "outputs": [],
   "source": []
  },
  {
   "cell_type": "code",
   "execution_count": 82,
   "id": "d8543d07",
   "metadata": {},
   "outputs": [
    {
     "data": {
      "image/png": "[encoded data removed]",
      "text/plain": [
       "<Figure size 1152x288 with 1 Axes>"
      ]
     },
     "metadata": {
      "needs_background": "light"
     },
     "output_type": "display_data"
    }
   ],
   "source": [
    "fig, ax = plt.subplots(figsize=[16, 4])\n",
    "\n",
    "\n",
    "plt.plot(wavelength, spec, label=\"GRS\", color='darkred', linestyle = 'dotted')\n",
    "\n",
    "\n",
    "#4th order stuff\n",
    "#published lines\n",
    "#plt.axvline(x=3.412775, color='lightblue', label='3.4206') \n",
    "#plt.axvline(x=3.41488, color='yellow', label='3.42685')\n",
    "#plt.axvline(x=3.42071, color='salmon', label='3.4206') \n",
    "#plt.axvline(x=3.42697, color='pink', label='3.42685')\n",
    "#plt.axvline(x=3.454685, color='lightgreen', label='3.4547') #doublet, not recognized in h3ppy?\n",
    "#plt.axvline(x=3.454825, color='lightgreen', label='3.4547')\n",
    "#plt.axvline(x=3.4566, color='lightblue', label='3.4566') #not published, test?\n",
    "#plt.axvline(x=3.46755, color='orange', label='3.46755') #not published, test?\n",
    "\n",
    "\n",
    "#plt.xlim(3.4120, 3.416)\n",
    "#plt.xlim(3.42, 3.426)\n",
    "#plt.xlim(3.422, 3.430)\n",
    "#plt.xlim(3.454, 3.458)\n",
    "\n",
    "\n",
    "\n",
    "\n",
    "#1st order\n",
    "#plt.axvline(x=3.95299, color='orange')\n",
    "#plt.axvline(x=3.971062, color='salmon') \n",
    "#plt.axvline(x=3.987017, color='lightgreen')\n",
    "#plt.axvline(x=3.987018, color='lightgreen')\n",
    "#plt.axvline(x=3.99463, color='pink')\n",
    "#plt.axvline(x=4.01197, color='lightblue')\n",
    "#plt.axvline(x=4.01325, color='lightblue') \n",
    "\n",
    "#plt.xlim(3.95, 3.955)\n",
    "#plt.xlim(3.969, 3.973)\n",
    "#plt.xlim(3.986, 3.989)\n",
    "#plt.xlim(3.986, 3.99)\n",
    "#plt.xlim(3.994, 3.996)\n",
    "#plt.xlim(4.01, 4.014)\n",
    "\n",
    "\n",
    "plt.xlabel(\"Wavelength (\" + r'$\\mu$' + \"m)\")\n",
    "plt.ylabel(r'$W / m^2 /sr / \\mu m$')\n",
    "plt.title(\"Great Red Spot [4th Order]\")\n",
    "plt.grid(visible=0)\n",
    "plt.ylim(-1e-8,4e-6)\n",
    "#plt.xlim(wavelength[0], wavelength[2047])\n",
    "\n",
    "\n",
    "model = h3p.model(density = 8e+14, temperature =340, R = 25000, wavelength = wave)\n",
    "ax.plot(wave, model, color = \"black\", linewidth=1.5, label='Model')\n",
    "\n",
    "\n",
    "plt.legend(loc=\"best\")\n",
    "plt.show()"
   ]
  },
  {
   "cell_type": "code",
   "execution_count": null,
   "id": "21a98ef4",
   "metadata": {},
   "outputs": [],
   "source": []
  },
  {
   "cell_type": "code",
   "execution_count": 23,
   "id": "04771c3a",
   "metadata": {},
   "outputs": [],
   "source": [
    "def subdivide(waves, spec, middles, width = 10) : \n",
    "    ret = []\n",
    "    for m in middles :\n",
    "            centre = np.abs(waves - m).argmin()\n",
    "            for i in range(centre - width, centre + width) : \n",
    "                    ret.append(spec[i])\n",
    "    return np.array(ret)"
   ]
  },
  {
   "cell_type": "code",
   "execution_count": 32,
   "id": "727eea95",
   "metadata": {},
   "outputs": [],
   "source": [
    "width = [5,5]\n",
    "\n",
    "\n",
    "def subdivide(waves, spec, middles, width = width) : \n",
    "    ret = []\n",
    "    count = 0\n",
    "    for m in middles :\n",
    "            centre = np.abs(waves - m).argmin()\n",
    "            for i in range(10):\n",
    "                ret.append(0)\n",
    "            for i in range(centre - width[count], centre + width[count]) : \n",
    "                    ret.append(spec[i])\n",
    "            for i in range(10):\n",
    "                ret.append(0)\n",
    "            count = count + 1\n",
    "    return np.array(ret)\n",
    "\n",
    "def subdividewave(waves, spec, middles, width = width) : \n",
    "    count = 0\n",
    "    ret = []\n",
    "    for m in middles : \n",
    "            centre = np.abs(waves - m).argmin()\n",
    "            for i in range(centre - width[count]-10, centre + width[count] + 10) : \n",
    "                    ret.append(spec[i])\n",
    "            count = count + 1\n",
    "    return np.array(ret)"
   ]
  },
  {
   "cell_type": "code",
   "execution_count": null,
   "id": "7c652dad",
   "metadata": {},
   "outputs": [],
   "source": []
  },
  {
   "cell_type": "code",
   "execution_count": null,
   "id": "ad058cb3",
   "metadata": {},
   "outputs": [],
   "source": []
  },
  {
   "cell_type": "code",
   "execution_count": 33,
   "id": "5fe68d2c",
   "metadata": {},
   "outputs": [],
   "source": [
    "# The H3+ line centers contained withing this spectral band\n",
    "\n",
    "#4th order lines\n",
    "#lines chosen based on clarity?\n",
    "#centers = [3.42082,3.42698]\n",
    "\n",
    "#all possible h3+ lines\n",
    "#centers = [3.42082,3.42698,3.45474,3.4566,3.46755]\n",
    "\n",
    "#centers = [3.412775,3.41488,3.42697]\n",
    "\n",
    "#centers = [3.412775,3.41488,3.42071,3.42697,3.454685]\n",
    "\n",
    "\n",
    "\n",
    "#3rd order lines\n",
    "centers = [3.61592,3.62046]\n",
    "\n",
    "#all possible lines\n",
    "#centers = [3.61592,3.62046,3.63038]\n",
    "\n",
    "# Create sub-arrays, focusing on where the H3+ lines are\n",
    "#subspecoff = subdivideoffset(wave, spec, centers)\n",
    "subspec = subdivide(wavelength, spec, centers)\n",
    "subwave = subdividewave(wavelength, wave, centers)"
   ]
  },
  {
   "cell_type": "code",
   "execution_count": 34,
   "id": "c86fa3ac",
   "metadata": {},
   "outputs": [],
   "source": [
    "subspec = subdivide(wavelength, spec, centers)\n",
    "subwave = subdivide(wavelength, wave, centers)"
   ]
  },
  {
   "cell_type": "code",
   "execution_count": 35,
   "id": "8d1a45f8",
   "metadata": {},
   "outputs": [
    {
     "name": "stdout",
     "output_type": "stream",
     "text": [
      "(60,)\n",
      "(60,)\n"
     ]
    }
   ],
   "source": [
    "print(subspec.shape)\n",
    "print(subwave.shape)"
   ]
  },
  {
   "cell_type": "code",
   "execution_count": 36,
   "id": "7942f45a",
   "metadata": {},
   "outputs": [
    {
     "name": "stderr",
     "output_type": "stream",
     "text": [
      "[h3ppy] The model generated only zeros - cannot make a guess at any parameter\n",
      "[h3ppy] The model generated only zeros - cannot make a guess at any parameter\n",
      "[h3ppy] Number of fitting iterations is set to 14\n",
      "[h3ppy] Fit failed to converge - solution is numerially unstable \n",
      "[h3ppy] In this instance: |ABC| or |Z| are zero.\n"
     ]
    }
   ],
   "source": [
    "h3p = h3ppy.h3p()\n",
    "\n",
    "# Set the wavelength and the data\n",
    "h3p.set(wavelength = subwave, data = subspec, R = 20000)\n",
    "\n",
    "# We need to guess a temperature\n",
    "h3p.set(temperature = 900)\n",
    "\n",
    "# We need to guess a density?\n",
    "#h3p.set(density = 4.0E14)\n",
    "\n",
    "# Let h3ppy try and guess a wavelength offset\n",
    "guess = h3p.guess_offset()\n",
    "# Guess the density and proceed with a five parameter fit\n",
    "h3p.guess_density()\n",
    "# Let h3ppy do the fitting - this will do a full five parameter fit\n",
    "fit = h3p.fit(verbose = True)"
   ]
  },
  {
   "cell_type": "code",
   "execution_count": null,
   "id": "fbe58bd4",
   "metadata": {},
   "outputs": [],
   "source": []
  },
  {
   "cell_type": "code",
   "execution_count": null,
   "id": "e65d5391",
   "metadata": {},
   "outputs": [],
   "source": []
  },
  {
   "cell_type": "code",
   "execution_count": 953,
   "id": "07052da8",
   "metadata": {},
   "outputs": [
    {
     "name": "stderr",
     "output_type": "stream",
     "text": [
      "[h3ppy]  Spectrum parameters:\n",
      "         Temperature    = 734.2 +/- 0.3 [K]\n",
      "         Column density = 2.48E+19 +/-  1.27E+21 [m-2]\n",
      "         ------------------------------\n",
      "         background_0 = 1.92E-08 +/- 9.61E-05\n",
      "         offset_0 = -1.47E-03 +/- 4.79E-08\n",
      "         sigma_0 = 2.67E-04 +/- 2.85E-08\n",
      "\n"
     ]
    }
   ],
   "source": [
    "vars, errs = h3p.get_results()"
   ]
  },
  {
   "cell_type": "code",
   "execution_count": null,
   "id": "a54f26de",
   "metadata": {},
   "outputs": [],
   "source": []
  },
  {
   "cell_type": "code",
   "execution_count": 37,
   "id": "b983a785",
   "metadata": {},
   "outputs": [],
   "source": [
    "data = 1\n",
    "\n",
    "if data == 1:\n",
    "    # Create a x scale for plotting \n",
    "    xx      = list(range(len(subspec)))\n",
    "    xaxis = []\n",
    "    for i in range(len(xx)):\n",
    "        xaxis.append(xx[i])\n",
    "    subspectest = []\n",
    "    for i in range(len(subspec)):\n",
    "        subspectest.append(subspec[i])\n",
    "        \n",
    "if data == 0:\n",
    "    # Create a x scale for plotting \n",
    "    xx      = list(range(len(subspecoff)))\n",
    "    xaxis = []\n",
    "    for i in range(len(xx)):\n",
    "        xaxis.append(xx[i])\n",
    "    subspectest = []\n",
    "    for i in range(len(subspecoff)):\n",
    "        subspectest.append(subspecoff[i])"
   ]
  },
  {
   "cell_type": "code",
   "execution_count": null,
   "id": "86f930e4",
   "metadata": {},
   "outputs": [],
   "source": []
  },
  {
   "cell_type": "code",
   "execution_count": 38,
   "id": "2652904d",
   "metadata": {},
   "outputs": [
    {
     "data": {
      "text/plain": [
       "<matplotlib.legend.Legend at 0x1ecef4d5e50>"
      ]
     },
     "execution_count": 38,
     "metadata": {},
     "output_type": "execute_result"
    },
    {
     "data": {
      "image/png": "[encoded data removed]",
      "text/plain": [
       "<Figure size 720x288 with 1 Axes>"
      ]
     },
     "metadata": {
      "needs_background": "light"
     },
     "output_type": "display_data"
    }
   ],
   "source": [
    "cpos = np.arange(2) * 26 + 17\n",
    "\n",
    "\n",
    "fig, ax = plt.subplots(figsize=[10, 4])\n",
    "\n",
    "ax.plot(xaxis, subspectest, 'pink')\n",
    "ax.plot(xaxis, subspectest, '.', label='Observation')\n",
    "ax.plot(xx, fit, label = 'h3ppy H$_3^+$ fit')\n",
    "\n",
    "    \n",
    "ax.set_title('Remarkably Bad h3ppy Fit')\n",
    "ax.set(xlabel = h3p.xlabel(), ylabel = h3p.ylabel(prefix = 'm'), xticks = cpos)\n",
    "ax.set_xticklabels(centers)\n",
    "ax.legend(frameon = True)\n",
    "#plt.ylim(-1e-8,8e-7)\n",
    "#plt.tight_layout()\n",
    "#plt.savefig('../img/nirspec_jupiter_fit.png')\n",
    "#plt.close()"
   ]
  },
  {
   "cell_type": "code",
   "execution_count": null,
   "id": "35269319",
   "metadata": {},
   "outputs": [],
   "source": []
  },
  {
   "cell_type": "code",
   "execution_count": null,
   "id": "6b067732",
   "metadata": {},
   "outputs": [],
   "source": []
  }
 ],
 "metadata": {
  "kernelspec": {
   "display_name": "Python 3 (ipykernel)",
   "language": "python",
   "name": "python3"
  },
  "language_info": {
   "codemirror_mode": {
    "name": "ipython",
    "version": 3
   },
   "file_extension": ".py",
   "mimetype": "text/x-python",
   "name": "python",
   "nbconvert_exporter": "python",
   "pygments_lexer": "ipython3",
   "version": "3.9.7"
  }
 },
 "nbformat": 4,
 "nbformat_minor": 5
}
